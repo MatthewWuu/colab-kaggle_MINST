{
  "cells": [
    {
      "cell_type": "code",
      "execution_count": null,
      "metadata": {},
      "outputs": [],
      "source": [
        "### Environment: **Google Colaboratory** free version, containing 15GB RAM avaliable on GPU(Tesla T4) and 12.7GB RAM avaliable on CPU\n"
      ]
    },
    {
      "cell_type": "code",
      "execution_count": null,
      "metadata": {
        "colab": {
          "base_uri": "https://localhost:8080/"
        },
        "id": "cuUoQrt5Sf8b",
        "outputId": "05fcbff4-bb12-4be7-cf3a-237f5b6c0adc"
      },
      "outputs": [
        {
          "name": "stdout",
          "output_type": "stream",
          "text": [
            "Downloading data from https://storage.googleapis.com/tensorflow/tf-keras-datasets/mnist.npz\n",
            "11490434/11490434 [==============================] - 0s 0us/step\n",
            "Epoch 1/5\n",
            "1875/1875 [==============================] - 10s 3ms/step - loss: 0.2615 - accuracy: 0.9257\n",
            "Epoch 2/5\n",
            "1875/1875 [==============================] - 5s 2ms/step - loss: 0.1157 - accuracy: 0.9663\n",
            "Epoch 3/5\n",
            "1875/1875 [==============================] - 5s 3ms/step - loss: 0.0795 - accuracy: 0.9762\n",
            "Epoch 4/5\n",
            "1875/1875 [==============================] - 5s 3ms/step - loss: 0.0576 - accuracy: 0.9825\n",
            "Epoch 5/5\n",
            "1875/1875 [==============================] - 5s 2ms/step - loss: 0.0453 - accuracy: 0.9856\n",
            "GPU Memory Usage: [1147] MiB\n",
            "The total training time for on Colab(with GPU Tesla T4 16GB RAM)： 41.93590068817139 seconds \n",
            "\n",
            "Epoch 1/5\n",
            "1875/1875 [==============================] - 5s 3ms/step - loss: 0.0356 - accuracy: 0.9890\n",
            "Epoch 2/5\n",
            "1875/1875 [==============================] - 5s 2ms/step - loss: 0.0284 - accuracy: 0.9910\n",
            "Epoch 3/5\n",
            "1875/1875 [==============================] - 5s 3ms/step - loss: 0.0229 - accuracy: 0.9926\n",
            "Epoch 4/5\n",
            "1875/1875 [==============================] - 5s 3ms/step - loss: 0.0189 - accuracy: 0.9941\n",
            "Epoch 5/5\n",
            "1875/1875 [==============================] - 5s 2ms/step - loss: 0.0170 - accuracy: 0.9947\n",
            "GPU Memory Usage: [1659] MiB\n",
            "The total training time for on Colab(with GPU Tesla T4 16GB RAM)： 41.37057971954346 seconds \n",
            "\n",
            "Epoch 1/5\n",
            "1875/1875 [==============================] - 5s 2ms/step - loss: 0.0126 - accuracy: 0.9960\n",
            "Epoch 2/5\n",
            "1875/1875 [==============================] - 5s 3ms/step - loss: 0.0123 - accuracy: 0.9961\n",
            "Epoch 3/5\n",
            "1875/1875 [==============================] - 5s 2ms/step - loss: 0.0096 - accuracy: 0.9970\n",
            "Epoch 4/5\n",
            "1875/1875 [==============================] - 5s 2ms/step - loss: 0.0090 - accuracy: 0.9973\n",
            "Epoch 5/5\n",
            "1875/1875 [==============================] - 5s 3ms/step - loss: 0.0095 - accuracy: 0.9971\n",
            "GPU Memory Usage: [1659] MiB\n",
            "The total training time for on Colab(with GPU Tesla T4 16GB RAM)： 24.602479457855225 seconds \n",
            "\n"
          ]
        }
      ],
      "source": [
        "import tensorflow as tf\n",
        "from tensorflow.keras.datasets import mnist\n",
        "from tensorflow.keras.models import Sequential\n",
        "from tensorflow.keras.layers import Dense, Flatten\n",
        "import time\n",
        "import subprocess\n",
        "\n",
        "#define a function to check the maximum usage of gpu RAM during the training\n",
        "def get_gpu_memory_usage():\n",
        "    result = subprocess.run(['nvidia-smi', '--query-gpu=memory.used', '--format=csv,nounits,noheader'],\n",
        "                            stdout=subprocess.PIPE, encoding='utf-8')\n",
        "    output = result.stdout.strip().split('\\n')\n",
        "    gpu_memory = [int(x) for x in output]\n",
        "    return gpu_memory\n",
        "\n",
        "#loading the mnist dataset and send into pre-precessoing\n",
        "(x_train, y_train), (x_test, y_test) = tf.keras.datasets.mnist.load_data()\n",
        "x_train = x_train / 255.0\n",
        "x_test = x_test / 255.0\n",
        "\n",
        "#construct the model\n",
        "model = Sequential([\n",
        "    Flatten(input_shape=(28, 28)),\n",
        "    Dense(128, activation='relu'),\n",
        "    Dense(10, activation='softmax')])\n",
        "\n",
        "#compile the model and train it\n",
        "model.compile(optimizer='adam',\n",
        "              loss='sparse_categorical_crossentropy',\n",
        "              metrics=['accuracy'])\n",
        "\n",
        "for i in range(1,4):\n",
        "  start_time = time.time()\n",
        "  model.fit(x_train, y_train, epochs=5)\n",
        "  end_time = time.time()\n",
        "  # output the training time\n",
        "  training_time = end_time - start_time\n",
        "  gpu_memory_usage = get_gpu_memory_usage()\n",
        "  print(f\"GPU Memory Usage: {gpu_memory_usage} MiB\")\n",
        "  print(\"The total training time for on Colab(with GPU Tesla T4 16GB RAM)：\", training_time, \"seconds \\n\")\n",
        "  i=i+1\n"
      ]
    },
    {
      "cell_type": "code",
      "execution_count": null,
      "metadata": {
        "id": "RtB1PJcSVB2z"
      },
      "outputs": [],
      "source": []
    }
  ],
  "metadata": {
    "accelerator": "GPU",
    "colab": {
      "gpuType": "T4",
      "provenance": []
    },
    "kernelspec": {
      "display_name": "Python 3",
      "name": "python3"
    },
    "language_info": {
      "name": "python"
    }
  },
  "nbformat": 4,
  "nbformat_minor": 0
}
